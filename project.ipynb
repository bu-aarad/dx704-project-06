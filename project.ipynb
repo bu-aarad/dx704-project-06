{
  "cells": [
    {
      "cell_type": "markdown",
      "metadata": {
        "id": "Md413FzAvFD8"
      },
      "source": [
        "# DX 704 Week 6 Project\n",
        "\n",
        "This project will develop a treatment plan for a fictious illness \"Twizzleflu\".\n",
        "Twizzleflu is a mild illness caused by a virus.\n",
        "The main symptoms are a mild fever, fidgeting, and kicking the blankets off the bed or couch.\n",
        "Mild dehydration has also been reported in more severe cases.\n",
        "These symptoms typically last 1-2 weeks without treatment.\n",
        "Word on the internet says that Twizzleflu can be cured faster by drinking copious orange juice, but this has not been supported by evidence so far.\n",
        "You will be provided with a theoretical model of Twizzleflu modeled as a Markov decision process.\n",
        "Based on the model, you will compute optimal treatment plans to optimize different criteria, and compare patient discomfort with the different plans."
      ]
    },
    {
      "cell_type": "markdown",
      "metadata": {
        "id": "kzyRo9Tw5VcB"
      },
      "source": [
        "The full project description, a template notebook, and raw data are available on GitHub: [Project 6 Materials](https://github.com/bu-cds-dx704/dx704-project-06)."
      ]
    },
    {
      "cell_type": "markdown",
      "metadata": {
        "id": "tGYOZcnP6Vfu"
      },
      "source": [
        "We will model Twizzleflu as a Markov decision process.\n",
        "The model transition probabilities are provided in the file \"twizzleflu-transitions.tsv\" and the expected rewards are in \"twizzleflu-rewards.tsv\".\n",
        "The goal for Twizzleflu is to minimize the expected discomfort of the patient which is expressed as negative rewards in the file."
      ]
    },
    {
      "cell_type": "markdown",
      "metadata": {
        "id": "dlm2sUsades5"
      },
      "source": [
        "## Example Code\n",
        "\n",
        "You may find it helpful to refer to these GitHub repositories of Jupyter notebooks for example code.\n",
        "\n",
        "* https://github.com/bu-cds-omds/dx601-examples\n",
        "* https://github.com/bu-cds-omds/dx602-examples\n",
        "* https://github.com/bu-cds-omds/dx603-examples\n",
        "* https://github.com/bu-cds-omds/dx704-examples\n",
        "\n",
        "Any calculations demonstrated in code examples or videos may be found in these notebooks, and you are allowed to copy this example code in your homework answers."
      ]
    },
    {
      "cell_type": "markdown",
      "metadata": {
        "id": "C8oSLkMqvMFF"
      },
      "source": [
        "## Part 1: Evaluate a Do Nothing Plan\n",
        "\n",
        "One of the treatment actions is to do nothing.\n",
        "Calculate the expected discomfort (not rewards) of a policy that always does nothing."
      ]
    },
    {
      "cell_type": "markdown",
      "metadata": {
        "id": "cvG4mi_sAF9A"
      },
      "source": [
        "Hint: for this value calculation and later ones, use value iteration.\n",
        "The analytical solution has difficulties in practice when there is no discount factor."
      ]
    },
    {
      "cell_type": "code",
      "execution_count": null,
      "metadata": {
        "id": "RVfnE8vf8yIl"
      },
      "outputs": [
        {
          "data": {
            "text/html": [
              "<div>\n",
              "<style scoped>\n",
              "    .dataframe tbody tr th:only-of-type {\n",
              "        vertical-align: middle;\n",
              "    }\n",
              "\n",
              "    .dataframe tbody tr th {\n",
              "        vertical-align: top;\n",
              "    }\n",
              "\n",
              "    .dataframe thead th {\n",
              "        text-align: right;\n",
              "    }\n",
              "</style>\n",
              "<table border=\"1\" class=\"dataframe\">\n",
              "  <thead>\n",
              "    <tr style=\"text-align: right;\">\n",
              "      <th></th>\n",
              "      <th>state</th>\n",
              "      <th>expected_discomfort</th>\n",
              "    </tr>\n",
              "  </thead>\n",
              "  <tbody>\n",
              "    <tr>\n",
              "      <th>0</th>\n",
              "      <td>exposed-1</td>\n",
              "      <td>3.413333</td>\n",
              "    </tr>\n",
              "    <tr>\n",
              "      <th>1</th>\n",
              "      <td>exposed-2</td>\n",
              "      <td>4.266667</td>\n",
              "    </tr>\n",
              "    <tr>\n",
              "      <th>2</th>\n",
              "      <td>exposed-3</td>\n",
              "      <td>5.333333</td>\n",
              "    </tr>\n",
              "    <tr>\n",
              "      <th>3</th>\n",
              "      <td>recovered</td>\n",
              "      <td>-0.000000</td>\n",
              "    </tr>\n",
              "    <tr>\n",
              "      <th>4</th>\n",
              "      <td>symptoms-1</td>\n",
              "      <td>6.666667</td>\n",
              "    </tr>\n",
              "    <tr>\n",
              "      <th>5</th>\n",
              "      <td>symptoms-2</td>\n",
              "      <td>5.000000</td>\n",
              "    </tr>\n",
              "    <tr>\n",
              "      <th>6</th>\n",
              "      <td>symptoms-3</td>\n",
              "      <td>1.666667</td>\n",
              "    </tr>\n",
              "  </tbody>\n",
              "</table>\n",
              "</div>"
            ],
            "text/plain": [
              "        state  expected_discomfort\n",
              "0   exposed-1             3.413333\n",
              "1   exposed-2             4.266667\n",
              "2   exposed-3             5.333333\n",
              "3   recovered            -0.000000\n",
              "4  symptoms-1             6.666667\n",
              "5  symptoms-2             5.000000\n",
              "6  symptoms-3             1.666667"
            ]
          },
          "execution_count": 1,
          "metadata": {},
          "output_type": "execute_result"
        }
      ],
      "source": [
        "# YOUR CHANGES HERE\n",
        "\n",
        "import pandas as pd\n",
        "import numpy as np\n",
        "from pathlib import Path\n",
        "\n",
        "# Load model\n",
        "transitions = pd.read_csv(\"twizzleflu-transitions.tsv\", sep=\"\\t\")\n",
        "rewards = pd.read_csv(\"twizzleflu-rewards.tsv\", sep=\"\\t\")\n",
        "\n",
        "# Fixed policy: always do-nothing\n",
        "A = \"do-nothing\"\n",
        "T = transitions[transitions[\"action\"] == A].copy()\n",
        "R = rewards[rewards[\"action\"] == A].set_index(\"state\")[\"reward\"].to_dict()\n",
        "\n",
        "# State set\n",
        "states = sorted(set(T[\"state\"]).union(T[\"next_state\"]))\n",
        "idx = {s: i for i, s in enumerate(states)}\n",
        "n = len(states)\n",
        "\n",
        "# Transition matrix P under the fixed policy (rows: s, cols: s')\n",
        "P = np.zeros((n, n))\n",
        "for _, row in T.iterrows():\n",
        "    P[idx[row[\"state\"]], idx[row[\"next_state\"]]] += row[\"probability\"]\n",
        "\n",
        "# Per-step reward vector r(s, A). Rewards are negative discomfort.\n",
        "r = np.array([R.get(s, 0.0) for s in states])\n",
        "\n",
        "# Policy evaluation with gamma = 1 (episodic; recovered is absorbing with 0 reward)\n",
        "# Solve (I - P) V = r; if singular due to numerics, fall back to iterative evaluation\n",
        "I = np.eye(n)\n",
        "try:\n",
        "    V = np.linalg.solve(I - P, r)\n",
        "except np.linalg.LinAlgError:\n",
        "    V = np.zeros(n)\n",
        "    for _ in range(100000):\n",
        "        V_new = r + P @ V\n",
        "        if np.max(np.abs(V_new - V)) < 1e-12:\n",
        "            V = V_new\n",
        "            break\n",
        "        V = V_new\n",
        "\n",
        "# Convert expected cumulative rewards to expected discomfort (positive)\n",
        "expected_discomfort = -V\n",
        "\n",
        "do_nothing_df = pd.DataFrame(\n",
        "    {\"state\": states, \"expected_discomfort\": expected_discomfort}\n",
        ")\n",
        "do_nothing_df"
      ]
    },
    {
      "cell_type": "markdown",
      "metadata": {
        "id": "oji9gHEk8ytE"
      },
      "source": [
        "Save the expected discomfort by state to a file \"do-nothing-discomfort.tsv\" with columns state and expected_discomfort."
      ]
    },
    {
      "cell_type": "code",
      "execution_count": 2,
      "metadata": {
        "id": "ZLDuiAb99ACA"
      },
      "outputs": [
        {
          "name": "stdout",
          "output_type": "stream",
          "text": [
            "Saved: /workspaces/dx704-project-06/do-nothing-discomfort.tsv\n"
          ]
        }
      ],
      "source": [
        "# YOUR CHANGES HERE\n",
        "\n",
        "out_path = Path(\"do-nothing-discomfort.tsv\")\n",
        "do_nothing_df.to_csv(out_path, sep=\"\\t\", index=False)\n",
        "print(f\"Saved: {out_path.resolve()}\")"
      ]
    },
    {
      "cell_type": "markdown",
      "metadata": {
        "id": "7-8sGANC-Dzs"
      },
      "source": [
        "Submit \"do-nothing-discomfort.tsv\" in Gradescope."
      ]
    },
    {
      "cell_type": "markdown",
      "metadata": {
        "id": "RJ1ietVp9BCS"
      },
      "source": [
        "## Part 2: Compute an Optimal Treatment Plan\n",
        "\n",
        "Compute an optimal treatment plan for Twizzleflu.\n",
        "It should minimize the expected discomfort (maximize the rewards)."
      ]
    },
    {
      "cell_type": "code",
      "execution_count": 3,
      "metadata": {
        "id": "6fdjt6qk9mZM"
      },
      "outputs": [
        {
          "data": {
            "text/html": [
              "<div>\n",
              "<style scoped>\n",
              "    .dataframe tbody tr th:only-of-type {\n",
              "        vertical-align: middle;\n",
              "    }\n",
              "\n",
              "    .dataframe tbody tr th {\n",
              "        vertical-align: top;\n",
              "    }\n",
              "\n",
              "    .dataframe thead th {\n",
              "        text-align: right;\n",
              "    }\n",
              "</style>\n",
              "<table border=\"1\" class=\"dataframe\">\n",
              "  <thead>\n",
              "    <tr style=\"text-align: right;\">\n",
              "      <th></th>\n",
              "      <th>state</th>\n",
              "      <th>action</th>\n",
              "    </tr>\n",
              "  </thead>\n",
              "  <tbody>\n",
              "    <tr>\n",
              "      <th>0</th>\n",
              "      <td>exposed-1</td>\n",
              "      <td>sleep-8</td>\n",
              "    </tr>\n",
              "    <tr>\n",
              "      <th>1</th>\n",
              "      <td>exposed-2</td>\n",
              "      <td>sleep-8</td>\n",
              "    </tr>\n",
              "    <tr>\n",
              "      <th>2</th>\n",
              "      <td>exposed-3</td>\n",
              "      <td>sleep-8</td>\n",
              "    </tr>\n",
              "    <tr>\n",
              "      <th>3</th>\n",
              "      <td>recovered</td>\n",
              "      <td>do-nothing</td>\n",
              "    </tr>\n",
              "    <tr>\n",
              "      <th>4</th>\n",
              "      <td>symptoms-1</td>\n",
              "      <td>drink-oj</td>\n",
              "    </tr>\n",
              "    <tr>\n",
              "      <th>5</th>\n",
              "      <td>symptoms-2</td>\n",
              "      <td>drink-oj</td>\n",
              "    </tr>\n",
              "    <tr>\n",
              "      <th>6</th>\n",
              "      <td>symptoms-3</td>\n",
              "      <td>drink-oj</td>\n",
              "    </tr>\n",
              "  </tbody>\n",
              "</table>\n",
              "</div>"
            ],
            "text/plain": [
              "        state      action\n",
              "0   exposed-1     sleep-8\n",
              "1   exposed-2     sleep-8\n",
              "2   exposed-3     sleep-8\n",
              "3   recovered  do-nothing\n",
              "4  symptoms-1    drink-oj\n",
              "5  symptoms-2    drink-oj\n",
              "6  symptoms-3    drink-oj"
            ]
          },
          "execution_count": 3,
          "metadata": {},
          "output_type": "execute_result"
        }
      ],
      "source": [
        "# YOUR CHANGES HERE\n",
        "\n",
        "transitions = pd.read_csv(\"twizzleflu-transitions.tsv\", sep=\"\\t\")\n",
        "rewards = pd.read_csv(\"twizzleflu-rewards.tsv\", sep=\"\\t\")\n",
        "\n",
        "# Build MDP components\n",
        "actions = sorted(transitions[\"action\"].unique())\n",
        "states = sorted(set(transitions[\"state\"]).union(transitions[\"next_state\"]).union(rewards[\"state\"]))\n",
        "idx = {s: i for i, s in enumerate(states)}\n",
        "n = len(states)\n",
        "\n",
        "# Transition matrices P[a] and reward vectors r[a]\n",
        "P = {a: np.zeros((n, n)) for a in actions}\n",
        "for _, row in transitions.iterrows():\n",
        "    P[row[\"action\"]][idx[row[\"state\"]], idx[row[\"next_state\"]]] += row[\"probability\"]\n",
        "\n",
        "R = {a: np.full(n, 0.0) for a in actions}\n",
        "for _, row in rewards.iterrows():\n",
        "    R[row[\"action\"]][idx[row[\"state\"]]] = row[\"reward\"]\n",
        "\n",
        "# Value Iteration (gamma = 1 for episodic; recovered should be absorbing)\n",
        "gamma = 1.0\n",
        "V = np.zeros(n)\n",
        "max_iters, tol = 200000, 1e-12\n",
        "\n",
        "for _ in range(max_iters):\n",
        "    Qs = [R[a] + gamma * (P[a] @ V) for a in actions]\n",
        "    V_new = np.max(Qs, axis=0)\n",
        "    if np.max(np.abs(V_new - V)) < tol:\n",
        "        V = V_new\n",
        "        break\n",
        "    V = V_new\n",
        "else:\n",
        "    # If gamma=1 doesn't converge (rare), slightly discount to guarantee convergence and retry\n",
        "    gamma = 0.9999\n",
        "    V = np.zeros(n)\n",
        "    for _ in range(max_iters):\n",
        "        Qs = [R[a] + gamma * (P[a] @ V) for a in actions]\n",
        "        V_new = np.max(Qs, axis=0)\n",
        "        if np.max(np.abs(V_new - V)) < tol:\n",
        "            V = V_new\n",
        "            break\n",
        "        V = V_new\n",
        "\n",
        "# Greedy optimal action for each state (ties broken by action order)\n",
        "Q_final = {a: R[a] + gamma * (P[a] @ V) for a in actions}\n",
        "best_action_idx = np.argmax(np.vstack([Q_final[a] for a in actions]), axis=0)\n",
        "optimal_actions = [actions[i] for i in best_action_idx]\n",
        "\n",
        "# Save results for future use\n",
        "opt_actions_df = pd.DataFrame({\"state\": states, \"action\": optimal_actions})\n",
        "opt_V = pd.Series(V, index=states) \n",
        "opt_actions_df"
      ]
    },
    {
      "cell_type": "markdown",
      "metadata": {
        "id": "PRcByl1h9nBf"
      },
      "source": [
        "Save the optimal actions for each state to a file \"minimum-discomfort-actions.tsv\" with columns state and action."
      ]
    },
    {
      "cell_type": "code",
      "execution_count": 4,
      "metadata": {
        "id": "FhAajvpX9wru"
      },
      "outputs": [
        {
          "name": "stdout",
          "output_type": "stream",
          "text": [
            "Saved: minimum-discomfort-actions.tsv\n"
          ]
        }
      ],
      "source": [
        "# YOUR CHANGES HERE\n",
        "\n",
        "out_path = \"minimum-discomfort-actions.tsv\"\n",
        "opt_actions_df.to_csv(out_path, sep=\"\\t\", index=False)\n",
        "print(f\"Saved: {out_path}\")"
      ]
    },
    {
      "cell_type": "markdown",
      "metadata": {
        "id": "sr00MlhL-Hdv"
      },
      "source": [
        "Submit \"minimum-discomfort-actions.tsv\" in Gradescope."
      ]
    },
    {
      "cell_type": "markdown",
      "metadata": {
        "id": "65p3NRTy9xjT"
      },
      "source": [
        "## Part 3: Expected Discomfort\n",
        "\n",
        "Using your previous optimal policy, compute the expected discomfort for each state."
      ]
    },
    {
      "cell_type": "code",
      "execution_count": 5,
      "metadata": {
        "id": "t5bHbK24-AhQ"
      },
      "outputs": [
        {
          "data": {
            "text/html": [
              "<div>\n",
              "<style scoped>\n",
              "    .dataframe tbody tr th:only-of-type {\n",
              "        vertical-align: middle;\n",
              "    }\n",
              "\n",
              "    .dataframe tbody tr th {\n",
              "        vertical-align: top;\n",
              "    }\n",
              "\n",
              "    .dataframe thead th {\n",
              "        text-align: right;\n",
              "    }\n",
              "</style>\n",
              "<table border=\"1\" class=\"dataframe\">\n",
              "  <thead>\n",
              "    <tr style=\"text-align: right;\">\n",
              "      <th></th>\n",
              "      <th>state</th>\n",
              "      <th>expected_discomfort</th>\n",
              "    </tr>\n",
              "  </thead>\n",
              "  <tbody>\n",
              "    <tr>\n",
              "      <th>0</th>\n",
              "      <td>exposed-1</td>\n",
              "      <td>0.75</td>\n",
              "    </tr>\n",
              "    <tr>\n",
              "      <th>1</th>\n",
              "      <td>exposed-2</td>\n",
              "      <td>1.50</td>\n",
              "    </tr>\n",
              "    <tr>\n",
              "      <th>2</th>\n",
              "      <td>exposed-3</td>\n",
              "      <td>3.00</td>\n",
              "    </tr>\n",
              "    <tr>\n",
              "      <th>3</th>\n",
              "      <td>recovered</td>\n",
              "      <td>-0.00</td>\n",
              "    </tr>\n",
              "    <tr>\n",
              "      <th>4</th>\n",
              "      <td>symptoms-1</td>\n",
              "      <td>6.00</td>\n",
              "    </tr>\n",
              "    <tr>\n",
              "      <th>5</th>\n",
              "      <td>symptoms-2</td>\n",
              "      <td>4.50</td>\n",
              "    </tr>\n",
              "    <tr>\n",
              "      <th>6</th>\n",
              "      <td>symptoms-3</td>\n",
              "      <td>1.50</td>\n",
              "    </tr>\n",
              "  </tbody>\n",
              "</table>\n",
              "</div>"
            ],
            "text/plain": [
              "        state  expected_discomfort\n",
              "0   exposed-1                 0.75\n",
              "1   exposed-2                 1.50\n",
              "2   exposed-3                 3.00\n",
              "3   recovered                -0.00\n",
              "4  symptoms-1                 6.00\n",
              "5  symptoms-2                 4.50\n",
              "6  symptoms-3                 1.50"
            ]
          },
          "execution_count": 5,
          "metadata": {},
          "output_type": "execute_result"
        }
      ],
      "source": [
        "# YOUR CHANGES HERE\n",
        "\n",
        "transitions = pd.read_csv(\"twizzleflu-transitions.tsv\", sep=\"\\t\")\n",
        "rewards = pd.read_csv(\"twizzleflu-rewards.tsv\", sep=\"\\t\")\n",
        "opt_actions = pd.read_csv(\"minimum-discomfort-actions.tsv\", sep=\"\\t\")\n",
        "\n",
        "# Consistent state ordering\n",
        "states = sorted(set(transitions[\"state\"]).union(transitions[\"next_state\"]).union(rewards[\"state\"]).union(opt_actions[\"state\"]))\n",
        "idx = {s: i for i, s in enumerate(states)}\n",
        "n = len(states)\n",
        "\n",
        "# Deterministic policy pi*(s)\n",
        "pi = dict(zip(opt_actions[\"state\"], opt_actions[\"action\"]))\n",
        "\n",
        "# Build P*pi and r*pi\n",
        "P_pi = np.zeros((n, n))\n",
        "r_pi = np.zeros(n)\n",
        "rew_lookup = rewards.set_index([\"state\", \"action\"])[\"reward\"].to_dict()\n",
        "\n",
        "for _, row in transitions.iterrows():\n",
        "    s = row[\"state\"]; a = pi.get(s)\n",
        "    if a is None or row[\"action\"] != a:\n",
        "        continue\n",
        "    i, j = idx[s], idx[row[\"next_state\"]]\n",
        "    P_pi[i, j] += row[\"probability\"]\n",
        "\n",
        "for s in states:\n",
        "    a = pi.get(s)\n",
        "    r_pi[idx[s]] = rew_lookup.get((s, a), 0.0)\n",
        "\n",
        "# Policy evaluation with gamma=1 (episodic): (I - P*pi) V = r*pi\n",
        "I = np.eye(n)\n",
        "try:\n",
        "    V = np.linalg.solve(I - P_pi, r_pi)\n",
        "except np.linalg.LinAlgError:\n",
        "    V = np.zeros(n)\n",
        "    for _ in range(200000):\n",
        "        V_new = r_pi + P_pi @ V\n",
        "        if np.max(np.abs(V_new - V)) < 1e-12:\n",
        "            V = V_new\n",
        "            break\n",
        "        V = V_new\n",
        "\n",
        "# Expected discomfort (positive) is the negative of expected cumulative reward\n",
        "expected_discomfort = -V\n",
        "\n",
        "minimum_discomfort_df = pd.DataFrame({\"state\": states, \"expected_discomfort\": expected_discomfort})\n",
        "minimum_discomfort_df"
      ]
    },
    {
      "cell_type": "markdown",
      "metadata": {
        "id": "Er6-0c0f-BGw"
      },
      "source": [
        "Save your results in a file \"minimum-discomfort-values.tsv\" with columns state and expected_discomfort."
      ]
    },
    {
      "cell_type": "code",
      "execution_count": 6,
      "metadata": {
        "id": "NAQFQnp_-TZ1"
      },
      "outputs": [
        {
          "name": "stdout",
          "output_type": "stream",
          "text": [
            "Saved: minimum-discomfort-values.tsv\n"
          ]
        }
      ],
      "source": [
        "# YOUR CHANGES HERE\n",
        "\n",
        "out_path = \"minimum-discomfort-values.tsv\"\n",
        "minimum_discomfort_df.to_csv(out_path, sep=\"\\t\", index=False)\n",
        "print(f\"Saved: {out_path}\")"
      ]
    },
    {
      "cell_type": "markdown",
      "metadata": {
        "id": "83wnFZfk-UDd"
      },
      "source": [
        "Submit \"minimum-discomfort-values.tsv\" in Gradescope."
      ]
    },
    {
      "cell_type": "markdown",
      "metadata": {
        "id": "CKUTt9gx-XBF"
      },
      "source": [
        "## Part 4: Minimizing Twizzleflu Duration\n",
        "\n",
        "Modifiy the Markov decision process to minimize the days until the Twizzle flu is over.\n",
        "To do so, change the reward function to always be -1 if the current state corresponds to being sick and 0 if the current state corresponds to being better.\n",
        "To be clear, the action does not matter for this reward function.\n"
      ]
    },
    {
      "cell_type": "code",
      "execution_count": null,
      "metadata": {
        "id": "HXrnkCh5-trk"
      },
      "outputs": [],
      "source": [
        "# YOUR CHANGES HERE\n",
        "\n",
        "transitions = pd.read_csv(\"twizzleflu-transitions.tsv\", sep=\"\\t\")\n",
        "rewards_orig = pd.read_csv(\"twizzleflu-rewards.tsv\", sep=\"\\t\") \n",
        "\n",
        "actions = sorted(transitions[\"action\"].unique())\n",
        "states = sorted(set(transitions[\"state\"]).union(transitions[\"next_state\"]).union(rewards_orig[\"state\"]))\n",
        "\n",
        "# Identify \"better\" (recovered) states:\n",
        "# 1) prefer name keywords; 2) fallback to absorbing states\n",
        "kw = {\"recover\", \"better\", \"healthy\"}\n",
        "better_states = {s for s in states if any(k in s.lower() for k in kw)}\n",
        "\n",
        "if not better_states:\n",
        "    out_by_pair = transitions.groupby([\"state\",\"next_state\"])[\"probability\"].sum().reset_index()\n",
        "    row_sum = transitions.groupby(\"state\")[\"probability\"].sum()\n",
        "    absorbing = set()\n",
        "    for s in states:\n",
        "        if row_sum.get(s, 0.0) == 0.0:\n",
        "            continue\n",
        "        p_self = float(out_by_pair[(out_by_pair[\"state\"]==s) & (out_by_pair[\"next_state\"]==s)][\"probability\"].sum())\n",
        "        if abs(p_self - 1.0) < 1e-9:\n",
        "            absorbing.add(s)\n",
        "    better_states = absorbing\n",
        "\n",
        "# Build the new reward function: -1 if sick, 0 if better; independent of action\n",
        "duration_rewards = pd.DataFrame(\n",
        "    [{\"state\": s, \"action\": a, \"reward\": (0.0 if s in better_states else -1.0)}\n",
        "     for s in states for a in actions]\n",
        ")"
      ]
    },
    {
      "cell_type": "markdown",
      "metadata": {
        "id": "je9Rt239-uRl"
      },
      "source": [
        "Save your new reward function in a file \"duration-rewards.tsv\" in the same format as \"twizzleflu-rewards.tsv\"."
      ]
    },
    {
      "cell_type": "code",
      "execution_count": null,
      "metadata": {
        "id": "_cmV1ewj-4-Q"
      },
      "outputs": [
        {
          "name": "stdout",
          "output_type": "stream",
          "text": [
            "Saved: duration-rewards.tsv\n"
          ]
        }
      ],
      "source": [
        "# YOUR CHANGES HERE\n",
        "\n",
        "duration_rewards.to_csv(\"duration-rewards.tsv\", sep=\"\\t\", index=False)\n",
        "print(\"Saved: duration-rewards.tsv\")"
      ]
    },
    {
      "cell_type": "markdown",
      "metadata": {
        "id": "r0lubs9v-5XQ"
      },
      "source": [
        "Submit \"duration-rewards.tsv\" in Gradescope."
      ]
    },
    {
      "cell_type": "markdown",
      "metadata": {
        "id": "Jf73YFzB-802"
      },
      "source": [
        "## Part 5: Optimize for Shorter Twizzleflu\n",
        "\n",
        "Compute an optimal policy to minimize the duration of Twizzleflu."
      ]
    },
    {
      "cell_type": "code",
      "execution_count": 13,
      "metadata": {
        "id": "Sa_HI0f0_FHA"
      },
      "outputs": [],
      "source": [
        "# YOUR CHANGES HERE\n",
        "\n",
        "transitions = pd.read_csv(\"twizzleflu-transitions.tsv\", sep=\"\\t\")\n",
        "duration_rewards = pd.read_csv(\"duration-rewards.tsv\", sep=\"\\t\")\n",
        "\n",
        "actions = sorted(transitions[\"action\"].unique())\n",
        "states = sorted(set(transitions[\"state\"]).union(transitions[\"next_state\"]))\n",
        "idx = {s: i for i, s in enumerate(states)}\n",
        "n = len(states)\n",
        "\n",
        "# Transition matrices per action\n",
        "P = {a: np.zeros((n, n)) for a in actions}\n",
        "for _, row in transitions.iterrows():\n",
        "    P[row[\"action\"]][idx[row[\"state\"]], idx[row[\"next_state\"]]] += row[\"probability\"]\n",
        "\n",
        "# Reward vectors per action (action-independent here, but we keep the structure)\n",
        "R = {\n",
        "    a: duration_rewards[duration_rewards[\"action\"] == a]\n",
        "         .set_index(\"state\")[\"reward\"]\n",
        "         .reindex(states).to_numpy()\n",
        "    for a in actions\n",
        "}\n",
        "\n",
        "# Value Iteration (gamma=1; episodic). Fallback to slight discount if needed for convergence.\n",
        "gamma = 1.0\n",
        "V = np.zeros(n)\n",
        "tol, max_iters = 1e-12, 200000\n",
        "\n",
        "for _ in range(max_iters):\n",
        "    Qs = [R[a] + gamma*(P[a] @ V) for a in actions]\n",
        "    V_new = np.max(Qs, axis=0)\n",
        "    if np.max(np.abs(V_new - V)) < tol:\n",
        "        V = V_new\n",
        "        break\n",
        "    V = V_new\n",
        "else:\n",
        "    gamma = 0.9999\n",
        "    V = np.zeros(n)\n",
        "    for _ in range(max_iters):\n",
        "        Qs = [R[a] + gamma*(P[a] @ V) for a in actions]\n",
        "        V_new = np.max(Qs, axis=0)\n",
        "        if np.max(np.abs(V_new - V)) < tol:\n",
        "            V = V_new\n",
        "            break\n",
        "        V = V_new\n",
        "\n",
        "# Greedy optimal action for each state (ties by action sort order)\n",
        "Q_final = {a: R[a] + gamma*(P[a] @ V) for a in actions}\n",
        "best_action_idx = np.argmax(np.vstack([Q_final[a] for a in actions]), axis=0)\n",
        "optimal_actions = [actions[i] for i in best_action_idx]"
      ]
    },
    {
      "cell_type": "markdown",
      "metadata": {
        "id": "px1xDndA_F3O"
      },
      "source": [
        "Save the optimal actions for each state to a file \"minimum-duration-actions.tsv\" with columns state and action."
      ]
    },
    {
      "cell_type": "code",
      "execution_count": 14,
      "metadata": {
        "id": "PGvWqSiI_Sqy"
      },
      "outputs": [
        {
          "name": "stdout",
          "output_type": "stream",
          "text": [
            "Saved: minimum-duration-actions.tsv\n"
          ]
        }
      ],
      "source": [
        "# YOUR CHANGES HERE\n",
        "\n",
        "out_df = pd.DataFrame({\"state\": states, \"action\": optimal_actions})\n",
        "out_df.to_csv(\"minimum-duration-actions.tsv\", sep=\"\\t\", index=False)\n",
        "print(\"Saved: minimum-duration-actions.tsv\")"
      ]
    },
    {
      "cell_type": "markdown",
      "metadata": {
        "id": "itPVLMaM_UDn"
      },
      "source": [
        "Submit \"minimum-duration-actions.tsv\" in Gradescope."
      ]
    },
    {
      "cell_type": "markdown",
      "metadata": {
        "id": "eOzSQ3fV_XBO"
      },
      "source": [
        "## Part 6: Shorter Twizzleflu?\n",
        "\n",
        "Compute the expected number of days sick for each state to a file."
      ]
    },
    {
      "cell_type": "code",
      "execution_count": null,
      "metadata": {
        "id": "WO_yubXg_gxn"
      },
      "outputs": [
        {
          "data": {
            "text/html": [
              "<div>\n",
              "<style scoped>\n",
              "    .dataframe tbody tr th:only-of-type {\n",
              "        vertical-align: middle;\n",
              "    }\n",
              "\n",
              "    .dataframe tbody tr th {\n",
              "        vertical-align: top;\n",
              "    }\n",
              "\n",
              "    .dataframe thead th {\n",
              "        text-align: right;\n",
              "    }\n",
              "</style>\n",
              "<table border=\"1\" class=\"dataframe\">\n",
              "  <thead>\n",
              "    <tr style=\"text-align: right;\">\n",
              "      <th></th>\n",
              "      <th>state</th>\n",
              "      <th>expected_sick_days</th>\n",
              "    </tr>\n",
              "  </thead>\n",
              "  <tbody>\n",
              "    <tr>\n",
              "      <th>0</th>\n",
              "      <td>exposed-1</td>\n",
              "      <td>3.000000</td>\n",
              "    </tr>\n",
              "    <tr>\n",
              "      <th>1</th>\n",
              "      <td>exposed-2</td>\n",
              "      <td>4.000000</td>\n",
              "    </tr>\n",
              "    <tr>\n",
              "      <th>2</th>\n",
              "      <td>exposed-3</td>\n",
              "      <td>6.000000</td>\n",
              "    </tr>\n",
              "    <tr>\n",
              "      <th>3</th>\n",
              "      <td>recovered</td>\n",
              "      <td>0.000000</td>\n",
              "    </tr>\n",
              "    <tr>\n",
              "      <th>4</th>\n",
              "      <td>symptoms-1</td>\n",
              "      <td>10.000000</td>\n",
              "    </tr>\n",
              "    <tr>\n",
              "      <th>5</th>\n",
              "      <td>symptoms-2</td>\n",
              "      <td>6.666667</td>\n",
              "    </tr>\n",
              "    <tr>\n",
              "      <th>6</th>\n",
              "      <td>symptoms-3</td>\n",
              "      <td>3.333333</td>\n",
              "    </tr>\n",
              "  </tbody>\n",
              "</table>\n",
              "</div>"
            ],
            "text/plain": [
              "        state  expected_sick_days\n",
              "0   exposed-1            3.000000\n",
              "1   exposed-2            4.000000\n",
              "2   exposed-3            6.000000\n",
              "3   recovered            0.000000\n",
              "4  symptoms-1           10.000000\n",
              "5  symptoms-2            6.666667\n",
              "6  symptoms-3            3.333333"
            ]
          },
          "execution_count": 15,
          "metadata": {},
          "output_type": "execute_result"
        }
      ],
      "source": [
        "# YOUR CHANGES HERE\n",
        "\n",
        "transitions = pd.read_csv(\"twizzleflu-transitions.tsv\", sep=\"\\t\")\n",
        "\n",
        "\n",
        "actions = sorted(transitions[\"action\"].unique())\n",
        "states = sorted(set(transitions[\"state\"]).union(transitions[\"next_state\"]))\n",
        "\n",
        "# Identify \"better\" (absorbing/healthy) states by keyword then fallback to absorbing\n",
        "kw = {\"recover\", \"better\", \"healthy\"}\n",
        "better_states = [s for s in states if any(k in s.lower() for k in kw)]\n",
        "if not better_states:\n",
        "    better_states = []\n",
        "    for s in states:\n",
        "        all_self = True\n",
        "        for a in actions:\n",
        "            sub = transitions[(transitions[\"state\"] == s) & (transitions[\"action\"] == a)]\n",
        "            if sub.empty:\n",
        "                continue\n",
        "            p_self = sub[sub[\"next_state\"] == s][\"probability\"].sum()\n",
        "            if abs(p_self - 1.0) > 1e-12:\n",
        "                all_self = False\n",
        "                break\n",
        "        if all_self:\n",
        "            better_states.append(s)\n",
        "\n",
        "# Build P(s,a,.)\n",
        "state_index = {s: i for i, s in enumerate(states)}\n",
        "nS = len(states)\n",
        "P = {a: np.zeros((nS, nS)) for a in actions}\n",
        "for a in actions:\n",
        "    sub = transitions[transitions[\"action\"] == a]\n",
        "    for _, row in sub.iterrows():\n",
        "        i = state_index[row[\"state\"]]\n",
        "        j = state_index[row[\"next_state\"]]\n",
        "        P[a][i, j] += float(row[\"probability\"])\n",
        "\n",
        "# Value iteration for undiscounted stochastic shortest path:\n",
        "# cost per step is 1 in non-better states, 0 in better states; goal is to minimize expected steps.\n",
        "cost = np.ones(nS)\n",
        "abs_idx = set(state_index[s] for s in better_states)\n",
        "for i in abs_idx:\n",
        "    cost[i] = 0.0\n",
        "\n",
        "V = np.zeros(nS)\n",
        "max_iters = 10000\n",
        "tol = 1e-12\n",
        "\n",
        "for _ in range(max_iters):\n",
        "    V_prev = V.copy()\n",
        "    Qs = [P[a] @ V_prev for a in actions]\n",
        "    stacked = np.vstack(Qs)  # shape (nA, nS)\n",
        "    V = cost + stacked.min(axis=0)\n",
        "    # Keep absorbing states pinned to 0\n",
        "    if abs_idx:\n",
        "        for i in abs_idx:\n",
        "            V[i] = 0.0\n",
        "    if np.max(np.abs(V - V_prev)) < tol:\n",
        "        break\n",
        "\n",
        "expected_sick_days_df = pd.DataFrame({\n",
        "    \"state\": states,\n",
        "    \"expected_sick_days\": V\n",
        "})\n",
        "expected_sick_days_df"
      ]
    },
    {
      "cell_type": "code",
      "execution_count": 21,
      "metadata": {},
      "outputs": [
        {
          "data": {
            "text/html": [
              "<div>\n",
              "<style scoped>\n",
              "    .dataframe tbody tr th:only-of-type {\n",
              "        vertical-align: middle;\n",
              "    }\n",
              "\n",
              "    .dataframe tbody tr th {\n",
              "        vertical-align: top;\n",
              "    }\n",
              "\n",
              "    .dataframe thead th {\n",
              "        text-align: right;\n",
              "    }\n",
              "</style>\n",
              "<table border=\"1\" class=\"dataframe\">\n",
              "  <thead>\n",
              "    <tr style=\"text-align: right;\">\n",
              "      <th></th>\n",
              "      <th>state</th>\n",
              "      <th>expected_sick_days</th>\n",
              "    </tr>\n",
              "  </thead>\n",
              "  <tbody>\n",
              "    <tr>\n",
              "      <th>0</th>\n",
              "      <td>exposed-1</td>\n",
              "      <td>3.000000</td>\n",
              "    </tr>\n",
              "    <tr>\n",
              "      <th>1</th>\n",
              "      <td>exposed-2</td>\n",
              "      <td>4.000000</td>\n",
              "    </tr>\n",
              "    <tr>\n",
              "      <th>2</th>\n",
              "      <td>exposed-3</td>\n",
              "      <td>6.000000</td>\n",
              "    </tr>\n",
              "    <tr>\n",
              "      <th>3</th>\n",
              "      <td>recovered</td>\n",
              "      <td>0.000000</td>\n",
              "    </tr>\n",
              "    <tr>\n",
              "      <th>4</th>\n",
              "      <td>symptoms-1</td>\n",
              "      <td>10.000000</td>\n",
              "    </tr>\n",
              "    <tr>\n",
              "      <th>5</th>\n",
              "      <td>symptoms-2</td>\n",
              "      <td>6.666667</td>\n",
              "    </tr>\n",
              "    <tr>\n",
              "      <th>6</th>\n",
              "      <td>symptoms-3</td>\n",
              "      <td>3.333333</td>\n",
              "    </tr>\n",
              "  </tbody>\n",
              "</table>\n",
              "</div>"
            ],
            "text/plain": [
              "        state  expected_sick_days\n",
              "0   exposed-1            3.000000\n",
              "1   exposed-2            4.000000\n",
              "2   exposed-3            6.000000\n",
              "3   recovered            0.000000\n",
              "4  symptoms-1           10.000000\n",
              "5  symptoms-2            6.666667\n",
              "6  symptoms-3            3.333333"
            ]
          },
          "execution_count": 21,
          "metadata": {},
          "output_type": "execute_result"
        }
      ],
      "source": [
        "transitions = pd.read_csv(\"twizzleflu-transitions.tsv\", sep=\"\\t\")\n",
        "policy_df = pd.read_csv(\"minimum-duration-actions.tsv\", sep=\"\\t\")\n",
        "\n",
        "actions = sorted(transitions[\"action\"].unique())\n",
        "states = sorted(set(transitions[\"state\"]).union(transitions[\"next_state\"]))\n",
        "state_index = {s: i for i, s in enumerate(states)}\n",
        "n = len(states)\n",
        "\n",
        "kw = {\"recover\", \"better\", \"healthy\"}\n",
        "better_states = [s for s in states if any(k in s.lower() for k in kw)]\n",
        "\n",
        "# Build policy-specific transition matrix\n",
        "P_pi = np.zeros((n, n))\n",
        "policy_map = dict(zip(policy_df[\"state\"], policy_df[\"action\"]))\n",
        "for s in states:\n",
        "    i = state_index[s]\n",
        "    a = policy_map[s]\n",
        "    sub = transitions[(transitions[\"state\"] == s) & (transitions[\"action\"] == a)]\n",
        "    if sub.empty:\n",
        "        P_pi[i, i] = 1.0\n",
        "    else:\n",
        "        for _, row in sub.iterrows():\n",
        "            P_pi[i, state_index[row[\"next_state\"]]] += float(row[\"probability\"])\n",
        "\n",
        "absorbing = set(better_states)\n",
        "transient_states = [s for s in states if s not in absorbing]\n",
        "idx_transient = [state_index[s] for s in transient_states]\n",
        "\n",
        "expected = np.zeros(n)\n",
        "if idx_transient:\n",
        "    Q = P_pi[np.ix_(idx_transient, idx_transient)]\n",
        "    A = np.eye(Q.shape[0]) - Q\n",
        "    ones = np.ones(Q.shape[0])\n",
        "    try:\n",
        "        t_trans = np.linalg.solve(A, ones)\n",
        "    except np.linalg.LinAlgError:\n",
        "        t_trans, *_ = np.linalg.lstsq(A, ones, rcond=None)\n",
        "    for k, s in enumerate(transient_states):\n",
        "        expected[state_index[s]] = t_trans[k]\n",
        "\n",
        "for s in absorbing:\n",
        "    expected[state_index[s]] = 0.0\n",
        "\n",
        "expected_sick_days_df = pd.DataFrame({\"state\": states, \"expected_sick_days\": expected})\n",
        "expected_sick_days_df"
      ]
    },
    {
      "cell_type": "markdown",
      "metadata": {
        "id": "_Zf8j6_D_hbZ"
      },
      "source": [
        "Save the expected sick days for each state to a file \"minimum-duration-days.tsv\" with columns state and expected_sick_days."
      ]
    },
    {
      "cell_type": "code",
      "execution_count": 22,
      "metadata": {
        "id": "yWS2HNVl_o3P"
      },
      "outputs": [
        {
          "name": "stdout",
          "output_type": "stream",
          "text": [
            "Saved: minimum-duration-days.tsv\n"
          ]
        }
      ],
      "source": [
        "# YOUR CHANGES HERE\n",
        "\n",
        "out_path = \"minimum-duration-days.tsv\"\n",
        "expected_sick_days_df.to_csv(out_path, sep=\"\\t\", index=False)\n",
        "print(f\"Saved: {out_path}\")"
      ]
    },
    {
      "cell_type": "markdown",
      "metadata": {
        "id": "SVApozXF_pjI"
      },
      "source": [
        "Submit \"minimum-duration-days.tsv\" in Gradescope."
      ]
    },
    {
      "cell_type": "markdown",
      "metadata": {
        "id": "Znw87KK7_uv5"
      },
      "source": [
        "## Part 7: Speed vs Pampering\n",
        "\n",
        "Compute the expected discomfort using the policy to minimize days sick, and compare the results to the expected discomfort when optimizing to minimize discomfort."
      ]
    },
    {
      "cell_type": "code",
      "execution_count": 24,
      "metadata": {
        "id": "0AdnpD-6__y5"
      },
      "outputs": [
        {
          "data": {
            "text/html": [
              "<div>\n",
              "<style scoped>\n",
              "    .dataframe tbody tr th:only-of-type {\n",
              "        vertical-align: middle;\n",
              "    }\n",
              "\n",
              "    .dataframe tbody tr th {\n",
              "        vertical-align: top;\n",
              "    }\n",
              "\n",
              "    .dataframe thead th {\n",
              "        text-align: right;\n",
              "    }\n",
              "</style>\n",
              "<table border=\"1\" class=\"dataframe\">\n",
              "  <thead>\n",
              "    <tr style=\"text-align: right;\">\n",
              "      <th></th>\n",
              "      <th>state</th>\n",
              "      <th>speed_discomfort</th>\n",
              "      <th>minimize_discomfort</th>\n",
              "    </tr>\n",
              "  </thead>\n",
              "  <tbody>\n",
              "    <tr>\n",
              "      <th>0</th>\n",
              "      <td>exposed-1</td>\n",
              "      <td>0.833333</td>\n",
              "      <td>0.75</td>\n",
              "    </tr>\n",
              "    <tr>\n",
              "      <th>1</th>\n",
              "      <td>exposed-2</td>\n",
              "      <td>1.666667</td>\n",
              "      <td>1.50</td>\n",
              "    </tr>\n",
              "    <tr>\n",
              "      <th>2</th>\n",
              "      <td>exposed-3</td>\n",
              "      <td>3.333333</td>\n",
              "      <td>3.00</td>\n",
              "    </tr>\n",
              "    <tr>\n",
              "      <th>3</th>\n",
              "      <td>recovered</td>\n",
              "      <td>0.000000</td>\n",
              "      <td>0.00</td>\n",
              "    </tr>\n",
              "    <tr>\n",
              "      <th>4</th>\n",
              "      <td>symptoms-1</td>\n",
              "      <td>6.666667</td>\n",
              "      <td>6.00</td>\n",
              "    </tr>\n",
              "    <tr>\n",
              "      <th>5</th>\n",
              "      <td>symptoms-2</td>\n",
              "      <td>5.000000</td>\n",
              "      <td>4.50</td>\n",
              "    </tr>\n",
              "    <tr>\n",
              "      <th>6</th>\n",
              "      <td>symptoms-3</td>\n",
              "      <td>1.666667</td>\n",
              "      <td>1.50</td>\n",
              "    </tr>\n",
              "  </tbody>\n",
              "</table>\n",
              "</div>"
            ],
            "text/plain": [
              "        state  speed_discomfort  minimize_discomfort\n",
              "0   exposed-1          0.833333                 0.75\n",
              "1   exposed-2          1.666667                 1.50\n",
              "2   exposed-3          3.333333                 3.00\n",
              "3   recovered          0.000000                 0.00\n",
              "4  symptoms-1          6.666667                 6.00\n",
              "5  symptoms-2          5.000000                 4.50\n",
              "6  symptoms-3          1.666667                 1.50"
            ]
          },
          "execution_count": 24,
          "metadata": {},
          "output_type": "execute_result"
        }
      ],
      "source": [
        "# YOUR CHANGES HERE\n",
        "\n",
        "transitions = pd.read_csv(\"twizzleflu-transitions.tsv\", sep=\"\\t\")\n",
        "rewards_df = pd.read_csv(\"twizzleflu-rewards.tsv\", sep=\"\\t\")\n",
        "speed_policy_df = pd.read_csv(\"minimum-duration-actions.tsv\", sep=\"\\t\")\n",
        "\n",
        "actions = sorted(transitions[\"action\"].unique())\n",
        "states = sorted(set(transitions[\"state\"]).union(transitions[\"next_state\"]).union(rewards_df[\"state\"]))\n",
        "state_index = {s: i for i, s in enumerate(states)}\n",
        "nS = len(states)\n",
        "\n",
        "kw = {\"recover\", \"better\", \"healthy\"}\n",
        "better_states = [s for s in states if any(k in s.lower() for k in kw)]\n",
        "absorbing_idx = {state_index[s] for s in better_states}\n",
        "\n",
        "# P and c\n",
        "P = {a: np.zeros((nS, nS)) for a in actions}\n",
        "for a in actions:\n",
        "    sub = transitions[transitions[\"action\"] == a]\n",
        "    for _, row in sub.iterrows():\n",
        "        P[a][state_index[row[\"state\"]], state_index[row[\"next_state\"]]] += float(row[\"probability\"])\n",
        "\n",
        "c = {a: np.zeros(nS) for a in actions}\n",
        "for _, row in rewards_df.iterrows():\n",
        "    c[row[\"action\"]][state_index[row[\"state\"]]] = float(-row[\"reward\"])\n",
        "for a in actions:\n",
        "    for i in absorbing_idx:\n",
        "        c[a][i] = 0.0\n",
        "\n",
        "# Speed policy eval\n",
        "speed_policy = dict(zip(speed_policy_df[\"state\"], speed_policy_df[\"action\"]))\n",
        "P_pi = np.zeros((nS, nS)); c_pi = np.zeros(nS)\n",
        "for s in states:\n",
        "    i = state_index[s]\n",
        "    a = speed_policy[s]\n",
        "    P_pi[i, :] = P[a][i, :]\n",
        "    c_pi[i] = c[a][i]\n",
        "\n",
        "transient_states = [s for s in states if state_index[s] not in absorbing_idx]\n",
        "idx_T = [state_index[s] for s in transient_states]\n",
        "speed_V = np.zeros(nS)\n",
        "if idx_T:\n",
        "    Q = P_pi[np.ix_(idx_T, idx_T)]\n",
        "    A = np.eye(Q.shape[0]) - Q\n",
        "    b = c_pi[idx_T]\n",
        "    try:\n",
        "        v_T = np.linalg.solve(A, b)\n",
        "    except np.linalg.LinAlgError:\n",
        "        v_T, *_ = np.linalg.lstsq(A, b, rcond=None)\n",
        "    for k, s in enumerate(transient_states):\n",
        "        speed_V[state_index[s]] = v_T[k]\n",
        "\n",
        "# Optimal discomfort (value iteration)\n",
        "opt_V = np.zeros(nS)\n",
        "max_iters = 10000; tol = 1e-12\n",
        "for _ in range(max_iters):\n",
        "    prev = opt_V.copy()\n",
        "    stacked = np.vstack([c[a] + P[a] @ prev for a in actions])\n",
        "    opt_V = stacked.min(axis=0)\n",
        "    if absorbing_idx:\n",
        "        for i in absorbing_idx:\n",
        "            opt_V[i] = 0.0\n",
        "    if np.max(np.abs(opt_V - prev)) < tol:\n",
        "        break\n",
        "\n",
        "policy_comparison_df = pd.DataFrame({\n",
        "    \"state\": states,\n",
        "    \"speed_discomfort\": speed_V,\n",
        "    \"minimize_discomfort\": opt_V\n",
        "})\n",
        "policy_comparison_df"
      ]
    },
    {
      "cell_type": "markdown",
      "metadata": {
        "id": "M3ZVJ2lcAAkP"
      },
      "source": [
        "Save the results to a file \"policy-comparison.tsv\" with columns state, speed_discomfort, and minimize_discomfort."
      ]
    },
    {
      "cell_type": "code",
      "execution_count": 26,
      "metadata": {
        "id": "9H9EG0zTAMt1"
      },
      "outputs": [
        {
          "name": "stdout",
          "output_type": "stream",
          "text": [
            "Saved: /mnt/data/policy-comparison.tsv\n",
            "     state  speed_discomfort  minimize_discomfort\n",
            " exposed-1          0.833333                 0.75\n",
            " exposed-2          1.666667                 1.50\n",
            " exposed-3          3.333333                 3.00\n",
            " recovered          0.000000                 0.00\n",
            "symptoms-1          6.666667                 6.00\n",
            "symptoms-2          5.000000                 4.50\n",
            "symptoms-3          1.666667                 1.50\n"
          ]
        }
      ],
      "source": [
        "# YOUR CHANGES HERE\n",
        "\n",
        "policy_comparison_df.to_csv(\"policy-comparison.tsv\", sep=\"\\t\", index=False)\n",
        "print(\"Saved:\", \"/mnt/data/policy-comparison.tsv\")\n",
        "print(policy_comparison_df.to_string(index=False))"
      ]
    },
    {
      "cell_type": "markdown",
      "metadata": {
        "id": "EVhLZuuaANNf"
      },
      "source": [
        "Submit \"policy-comparison.tsv\" in Gradescope."
      ]
    },
    {
      "cell_type": "markdown",
      "metadata": {
        "id": "smsTLuFcvR-I"
      },
      "source": [
        "## Part 8: Code\n",
        "\n",
        "Please submit a Jupyter notebook that can reproduce all your calculations and recreate the previously submitted files."
      ]
    },
    {
      "cell_type": "markdown",
      "metadata": {
        "id": "zi8lV2pbvWMs"
      },
      "source": [
        "## Part 9: Acknowledgements\n",
        "\n",
        "If you discussed this assignment with anyone, please acknowledge them here.\n",
        "If you did this assignment completely on your own, simply write none below.\n",
        "\n",
        "If you used any libraries not mentioned in this module's content, please list them with a brief explanation what you used them for. If you did not use any other libraries, simply write none below.\n",
        "\n",
        "If you used any generative AI tools, please add links to your transcripts below, and any other information that you feel is necessary to comply with the generative AI policy. If you did not use any generative AI tools, simply write none below."
      ]
    }
  ],
  "metadata": {
    "colab": {
      "toc_visible": false
    },
    "kernelspec": {
      "display_name": "Python 3",
      "name": "python3"
    },
    "language_info": {
      "codemirror_mode": {
        "name": "ipython",
        "version": 3
      },
      "file_extension": ".py",
      "mimetype": "text/x-python",
      "name": "python",
      "nbconvert_exporter": "python",
      "pygments_lexer": "ipython3",
      "version": "3.12.1"
    }
  },
  "nbformat": 4,
  "nbformat_minor": 0
}
